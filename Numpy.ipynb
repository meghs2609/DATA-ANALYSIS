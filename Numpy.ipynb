{
  "nbformat": 4,
  "nbformat_minor": 0,
  "metadata": {
    "colab": {
      "provenance": []
    },
    "kernelspec": {
      "name": "python3",
      "display_name": "Python 3"
    },
    "language_info": {
      "name": "python"
    }
  },
  "cells": [
    {
      "cell_type": "code",
      "execution_count": null,
      "metadata": {
        "colab": {
          "base_uri": "https://localhost:8080/"
        },
        "id": "1B0ETYldqv6m",
        "outputId": "9db83a94-8d86-4553-fec9-62b43d6484b4"
      },
      "outputs": [
        {
          "output_type": "stream",
          "name": "stdout",
          "text": [
            "[1. 2. 3. 4. 5.]\n"
          ]
        }
      ],
      "source": [
        "import numpy as np\n",
        "#creating Arrays\n",
        "arr=np.array([1,2,3,4,5],dtype=float)\n",
        "print(arr)\n"
      ]
    },
    {
      "cell_type": "code",
      "source": [],
      "metadata": {
        "id": "x451mZ69VugU"
      },
      "execution_count": null,
      "outputs": []
    },
    {
      "cell_type": "code",
      "source": [
        "#creating matrix using zeros\n",
        "zeros_arr=np.zeros((3,3),dtype=int)\n",
        "print(zeros_arr)\n"
      ],
      "metadata": {
        "colab": {
          "base_uri": "https://localhost:8080/"
        },
        "id": "1_DwVKMnrG_3",
        "outputId": "22198a77-c5b2-4781-c43b-8d3b3d399f97"
      },
      "execution_count": null,
      "outputs": [
        {
          "output_type": "stream",
          "name": "stdout",
          "text": [
            "[[0 0 0]\n",
            " [0 0 0]\n",
            " [0 0 0]]\n"
          ]
        }
      ]
    },
    {
      "cell_type": "code",
      "source": [
        "#array manipulation\n",
        "reshaped_arr=arr.reshape(5,1)\n",
        "print(reshaped_arr)"
      ],
      "metadata": {
        "colab": {
          "base_uri": "https://localhost:8080/"
        },
        "id": "pILWj86csjm5",
        "outputId": "51868f7b-5385-4c39-89d8-dd63c4a4a707"
      },
      "execution_count": null,
      "outputs": [
        {
          "output_type": "stream",
          "name": "stdout",
          "text": [
            "[[1.]\n",
            " [2.]\n",
            " [3.]\n",
            " [4.]\n",
            " [5.]]\n"
          ]
        }
      ]
    },
    {
      "cell_type": "code",
      "source": [
        "#arange function\n",
        "arange_arr=np.arange(10)\n",
        "print(arange_arr)"
      ],
      "metadata": {
        "colab": {
          "base_uri": "https://localhost:8080/"
        },
        "id": "7JDh1wGIsHnN",
        "outputId": "42e4736c-8a75-410f-bb7a-e21c951d6a9e"
      },
      "execution_count": null,
      "outputs": [
        {
          "output_type": "stream",
          "name": "stdout",
          "text": [
            "[0 1 2 3 4 5 6 7 8 9]\n"
          ]
        }
      ]
    },
    {
      "cell_type": "code",
      "source": [
        "#slicing the array\n",
        "sliced_arr=arr[2:4]\n",
        "print(sliced_arr)"
      ],
      "metadata": {
        "colab": {
          "base_uri": "https://localhost:8080/"
        },
        "id": "qo90VlpVrn8M",
        "outputId": "5af6f280-c1de-4333-f217-0fa959a8cead"
      },
      "execution_count": null,
      "outputs": [
        {
          "output_type": "stream",
          "name": "stdout",
          "text": [
            "[3. 4.]\n"
          ]
        }
      ]
    },
    {
      "cell_type": "code",
      "source": [
        "#transpose of the array\n",
        "a=np.array([[1,2,3,4],[5,6,7,8]])\n",
        "b=a.T\n",
        "print(b)"
      ],
      "metadata": {
        "colab": {
          "base_uri": "https://localhost:8080/"
        },
        "id": "hMBYFKoVtl5R",
        "outputId": "158fbf62-48ef-4cf7-f9af-15a8ec3b5c63"
      },
      "execution_count": null,
      "outputs": [
        {
          "output_type": "stream",
          "name": "stdout",
          "text": [
            "[[1 5]\n",
            " [2 6]\n",
            " [3 7]\n",
            " [4 8]]\n"
          ]
        }
      ]
    },
    {
      "cell_type": "code",
      "source": [
        "#matrix multiplication\n",
        "a=np.array([[1,2],[3,4]])\n",
        "b=np.array([[5,6],[7,8]])\n",
        "c=np.dot(a,b)\n",
        "print(c)\n",
        "#linear algebra.eigen value\n",
        "d=np.linalg.eig(c)\n",
        "print(d)"
      ],
      "metadata": {
        "colab": {
          "base_uri": "https://localhost:8080/"
        },
        "id": "DHz2GOaRwHl3",
        "outputId": "0d57cbb2-58d2-40f9-8c64-2c35d32ef067"
      },
      "execution_count": null,
      "outputs": [
        {
          "output_type": "stream",
          "name": "stdout",
          "text": [
            "[[19 22]\n",
            " [43 50]]\n",
            "EigResult(eigenvalues=array([5.80198014e-02, 6.89419802e+01]), eigenvectors=array([[-0.75781077, -0.40313049],\n",
            "       [ 0.65247439, -0.91514251]]))\n"
          ]
        }
      ]
    },
    {
      "cell_type": "code",
      "source": [
        "# saving file to my drivre\n",
        "data=np.loadtxt(\"/content/drive/MyDrive/Data Set/SOC.txt.txt\",dtype=int)\n",
        "d=np.savetxt(\"/content/SOC.txt.txt\",data)\n",
        "print(d)\n",
        "print(data)"
      ],
      "metadata": {
        "colab": {
          "base_uri": "https://localhost:8080/"
        },
        "id": "SJi-mAE8zVef",
        "outputId": "8a6dc19a-e40b-4054-d720-7ea5fb23713f"
      },
      "execution_count": null,
      "outputs": [
        {
          "output_type": "stream",
          "name": "stdout",
          "text": [
            "None\n",
            "[[1 2 3 4 5]\n",
            " [6 7 8 9 0]\n",
            " [1 3 5 7 9]\n",
            " [2 4 6 8 0]\n",
            " [1 4 7 0 5]]\n"
          ]
        }
      ]
    },
    {
      "cell_type": "code",
      "source": [
        "#arange function(starting,ending,b/w range)\n",
        "arange=np.arange(0,1000,5)\n",
        "print(arange)"
      ],
      "metadata": {
        "colab": {
          "base_uri": "https://localhost:8080/"
        },
        "id": "Gbmlu9ulNDmZ",
        "outputId": "c8406acb-83c6-44fd-910c-5ce9be00fb0c"
      },
      "execution_count": null,
      "outputs": [
        {
          "output_type": "stream",
          "name": "stdout",
          "text": [
            "[  0   5  10  15  20  25  30  35  40  45  50  55  60  65  70  75  80  85\n",
            "  90  95 100 105 110 115 120 125 130 135 140 145 150 155 160 165 170 175\n",
            " 180 185 190 195 200 205 210 215 220 225 230 235 240 245 250 255 260 265\n",
            " 270 275 280 285 290 295 300 305 310 315 320 325 330 335 340 345 350 355\n",
            " 360 365 370 375 380 385 390 395 400 405 410 415 420 425 430 435 440 445\n",
            " 450 455 460 465 470 475 480 485 490 495 500 505 510 515 520 525 530 535\n",
            " 540 545 550 555 560 565 570 575 580 585 590 595 600 605 610 615 620 625\n",
            " 630 635 640 645 650 655 660 665 670 675 680 685 690 695 700 705 710 715\n",
            " 720 725 730 735 740 745 750 755 760 765 770 775 780 785 790 795 800 805\n",
            " 810 815 820 825 830 835 840 845 850 855 860 865 870 875 880 885 890 895\n",
            " 900 905 910 915 920 925 930 935 940 945 950 955 960 965 970 975 980 985\n",
            " 990 995]\n"
          ]
        }
      ]
    },
    {
      "cell_type": "code",
      "source": [
        "# saving output of above file into .txt file\n",
        "m=np.savetxt(\"/content/arrang.txt\",arange)\n",
        "data1=np.loadtxt(\"/content/arrang.txt\",dtype=int)\n",
        "print(data1)"
      ],
      "metadata": {
        "colab": {
          "base_uri": "https://localhost:8080/"
        },
        "id": "ifg0xyzbNpr1",
        "outputId": "3e583655-177e-43c8-90bd-c6921d997645"
      },
      "execution_count": null,
      "outputs": [
        {
          "output_type": "stream",
          "name": "stdout",
          "text": [
            "[  0   5  10  15  20  25  30  35  40  45  50  55  60  65  70  75  80  85\n",
            "  90  95 100 105 110 115 120 125 130 135 140 145 150 155 160 165 170 175\n",
            " 180 185 190 195 200 205 210 215 220 225 230 235 240 245 250 255 260 265\n",
            " 270 275 280 285 290 295 300 305 310 315 320 325 330 335 340 345 350 355\n",
            " 360 365 370 375 380 385 390 395 400 405 410 415 420 425 430 435 440 445\n",
            " 450 455 460 465 470 475 480 485 490 495 500 505 510 515 520 525 530 535\n",
            " 540 545 550 555 560 565 570 575 580 585 590 595 600 605 610 615 620 625\n",
            " 630 635 640 645 650 655 660 665 670 675 680 685 690 695 700 705 710 715\n",
            " 720 725 730 735 740 745 750 755 760 765 770 775 780 785 790 795 800 805\n",
            " 810 815 820 825 830 835 840 845 850 855 860 865 870 875 880 885 890 895\n",
            " 900 905 910 915 920 925 930 935 940 945 950 955 960 965 970 975 980 985\n",
            " 990 995]\n"
          ]
        },
        {
          "output_type": "stream",
          "name": "stderr",
          "text": [
            "<ipython-input-12-b2828d8c1714>:2: DeprecationWarning: loadtxt(): Parsing an integer via a float is deprecated.  To avoid this warning, you can:\n",
            "    * make sure the original data is stored as integers.\n",
            "    * use the `converters=` keyword argument.  If you only use\n",
            "      NumPy 1.23 or later, `converters=float` will normally work.\n",
            "    * Use `np.loadtxt(...).astype(np.int64)` parsing the file as\n",
            "      floating point and then convert it.  (On all NumPy versions.)\n",
            "  (Deprecated NumPy 1.23)\n",
            "  data1=np.loadtxt(\"/content/arrang.txt\",dtype=int)\n"
          ]
        }
      ]
    },
    {
      "cell_type": "code",
      "source": [
        "#random function\n",
        "r=np.random.rand()\n",
        "print(r)\n",
        "s=np.random.randint(0,2)\n",
        "print(s)"
      ],
      "metadata": {
        "colab": {
          "base_uri": "https://localhost:8080/"
        },
        "id": "IjLyPsdRSA77",
        "outputId": "6ea3a956-f9a2-4463-a51e-829a470cd57c"
      },
      "execution_count": null,
      "outputs": [
        {
          "output_type": "stream",
          "name": "stdout",
          "text": [
            "0.9024073806953714\n",
            "1\n"
          ]
        }
      ]
    },
    {
      "cell_type": "code",
      "source": [
        "#type,shape and dimension\n",
        "a=np.array([[2,3],[5,6]])\n",
        "print(type(a))\n",
        "print(a.ndim)\n",
        "print(a.shape)\n"
      ],
      "metadata": {
        "colab": {
          "base_uri": "https://localhost:8080/"
        },
        "id": "WVGWS0q7TQTl",
        "outputId": "b2f1ff05-1d86-4287-8c13-e8a13480371e"
      },
      "execution_count": null,
      "outputs": [
        {
          "output_type": "stream",
          "name": "stdout",
          "text": [
            "<class 'numpy.ndarray'>\n",
            "2\n",
            "(2, 2)\n"
          ]
        }
      ]
    },
    {
      "cell_type": "code",
      "source": [
        "# (starting,ending,varrying)of linspace funtion\n",
        "b=np.linspace(0.8,2,5)\n",
        "print(b)"
      ],
      "metadata": {
        "colab": {
          "base_uri": "https://localhost:8080/"
        },
        "id": "2r87GrFPUNoD",
        "outputId": "1e1b10b5-916e-4414-b22a-b6aa8d8ee089"
      },
      "execution_count": null,
      "outputs": [
        {
          "output_type": "stream",
          "name": "stdout",
          "text": [
            "[0.8 1.1 1.4 1.7 2. ]\n"
          ]
        }
      ]
    },
    {
      "cell_type": "code",
      "source": [
        "#.split function\n",
        "b=np.split(a,4)\n",
        "print(b)\n"
      ],
      "metadata": {
        "colab": {
          "base_uri": "https://localhost:8080/"
        },
        "id": "9y2JiONbuBAg",
        "outputId": "f238bb47-9c78-41c4-ec67-ac35b88275c9"
      },
      "execution_count": null,
      "outputs": [
        {
          "output_type": "stream",
          "name": "stdout",
          "text": [
            "[array([1, 2]), array([3, 4]), array([5, 6]), array([7, 8])]\n"
          ]
        }
      ]
    },
    {
      "cell_type": "code",
      "source": [
        "#reshape function(set,row,column)\n",
        "q=np.arange(24).reshape(6,1,4)\n",
        "print(q)"
      ],
      "metadata": {
        "colab": {
          "base_uri": "https://localhost:8080/"
        },
        "id": "TkrhsNDnUzfN",
        "outputId": "0ab5204f-aca0-48e7-9c6e-824a2c1c20c3"
      },
      "execution_count": null,
      "outputs": [
        {
          "output_type": "stream",
          "name": "stdout",
          "text": [
            "[[[ 0  1  2  3]]\n",
            "\n",
            " [[ 4  5  6  7]]\n",
            "\n",
            " [[ 8  9 10 11]]\n",
            "\n",
            " [[12 13 14 15]]\n",
            "\n",
            " [[16 17 18 19]]\n",
            "\n",
            " [[20 21 22 23]]]\n"
          ]
        }
      ]
    },
    {
      "cell_type": "code",
      "source": [
        "#a*b=element,(a@b/a.b)=matrix multiplication\n",
        "i=np.array([[2,3],[5,6]])\n",
        "j=np.array([[2,3],[5,6]])\n",
        "print(i*j)\n",
        "print(i@j)\n",
        "k=np.dot(i,j)\n",
        "print(k)"
      ],
      "metadata": {
        "colab": {
          "base_uri": "https://localhost:8080/"
        },
        "id": "0nb4R1FDWYVP",
        "outputId": "2aec0689-64cb-4140-cdae-25a2974d950a"
      },
      "execution_count": null,
      "outputs": [
        {
          "output_type": "stream",
          "name": "stdout",
          "text": [
            "[[ 4  9]\n",
            " [25 36]]\n",
            "[[19 24]\n",
            " [40 51]]\n",
            "[[19 24]\n",
            " [40 51]]\n"
          ]
        }
      ]
    },
    {
      "cell_type": "code",
      "source": [
        "from numpy import random\n",
        "a=np.ones((2,3),dtype=int)\n",
        "print(a)\n",
        "#.sum function//total sum of matrix\n",
        "print(a.sum())\n",
        "#.sum(axis=1)//row wise addition\n",
        "print(a.sum(axis=1))\n",
        "#.sum(axis=0)//column wise addition\n",
        "print(a.sum(axis=0))"
      ],
      "metadata": {
        "colab": {
          "base_uri": "https://localhost:8080/"
        },
        "id": "gmCTBFPVZL_c",
        "outputId": "523d52f9-7e52-44f0-f7b4-3624e684cfea"
      },
      "execution_count": null,
      "outputs": [
        {
          "output_type": "stream",
          "name": "stdout",
          "text": [
            "[[1 1 1]\n",
            " [1 1 1]]\n",
            "6\n",
            "[3 3]\n",
            "[2 2 2]\n"
          ]
        }
      ]
    },
    {
      "cell_type": "code",
      "source": [
        "a=np.floor(np.random.random((2,12)))\n",
        "b=np.ceil(np.random.random((2,12)))\n",
        "c=np.random.random((2,2))\n",
        "print(a)\n",
        "print(c)\n",
        "print(b)"
      ],
      "metadata": {
        "colab": {
          "base_uri": "https://localhost:8080/"
        },
        "id": "j8Sw0WFSaq-q",
        "outputId": "2a0dc7a4-3d1d-4aeb-e86c-8fe435f5b54f"
      },
      "execution_count": null,
      "outputs": [
        {
          "output_type": "stream",
          "name": "stdout",
          "text": [
            "[[0. 0. 0. 0. 0. 0. 0. 0. 0. 0. 0. 0.]\n",
            " [0. 0. 0. 0. 0. 0. 0. 0. 0. 0. 0. 0.]]\n",
            "[[0.77370898 0.69319416]\n",
            " [0.78462337 0.32683524]]\n",
            "[[1. 1. 1. 1. 1. 1. 1. 1. 1. 1. 1. 1.]\n",
            " [1. 1. 1. 1. 1. 1. 1. 1. 1. 1. 1. 1.]]\n"
          ]
        }
      ]
    },
    {
      "cell_type": "code",
      "source": [
        "from numpy import random\n",
        "a=np.ones((2,3),dtype=int)\n",
        "print(a)\n",
        "#.max function//max value in matrix\n",
        "print(a.max())\n",
        "#.max(axis=1)//row wise max values\n",
        "print(a.max(axis=1))\n",
        "#.max(axis=0)//column wise max values\n",
        "print(a.max(axis=0))"
      ],
      "metadata": {
        "colab": {
          "base_uri": "https://localhost:8080/"
        },
        "id": "2iOwRyK2ciC0",
        "outputId": "864c7b95-a788-4756-c514-595930c895a8"
      },
      "execution_count": null,
      "outputs": [
        {
          "output_type": "stream",
          "name": "stdout",
          "text": [
            "[[1 1 1]\n",
            " [1 1 1]]\n",
            "1\n",
            "[1 1]\n",
            "[1 1 1]\n"
          ]
        }
      ]
    },
    {
      "cell_type": "code",
      "source": [
        "a=np.array([[2,3],[4,5]])\n",
        "print(a.max())\n",
        "print(a.max(axis=1))\n",
        "print(a.max(axis=0))\n",
        "print(a.cumsum(axis=1))"
      ],
      "metadata": {
        "colab": {
          "base_uri": "https://localhost:8080/"
        },
        "id": "LR-p8wRLdDho",
        "outputId": "3314e7d1-34e9-4e2a-af83-7f26f2ece4aa"
      },
      "execution_count": null,
      "outputs": [
        {
          "output_type": "stream",
          "name": "stdout",
          "text": [
            "5\n",
            "[3 5]\n",
            "[4 5]\n",
            "[[2 5]\n",
            " [4 9]]\n"
          ]
        }
      ]
    },
    {
      "cell_type": "code",
      "source": [
        "a=np.array([[2,3,4,5,6,7]])\n",
        "print(a.cumsum(axis=1))\n",
        "a.resize([3,2])\n",
        "print(a)\n",
        "print(a.shape)"
      ],
      "metadata": {
        "colab": {
          "base_uri": "https://localhost:8080/"
        },
        "id": "2T9_I0VUd8yT",
        "outputId": "1d528a56-61aa-4961-e4b3-04d10f891947"
      },
      "execution_count": null,
      "outputs": [
        {
          "output_type": "stream",
          "name": "stdout",
          "text": [
            "[[ 2  5  9 14 20 27]]\n",
            "[[2 3]\n",
            " [4 5]\n",
            " [6 7]]\n",
            "(3, 2)\n"
          ]
        }
      ]
    },
    {
      "cell_type": "code",
      "source": [
        "#joining two array using vstack(vertical stacking),hstack(horizontal stacking)\n",
        "a=np.array([[2,3,4,5,6,7]])\n",
        "a.resize([2,3])\n",
        "print(a)\n",
        "b=np.array([[6,5,9,2,4,5]])\n",
        "b.resize([2,3])\n",
        "print(b)\n",
        "print(np.vstack((a,b)))\n",
        "print(np.hstack((a,b)))"
      ],
      "metadata": {
        "colab": {
          "base_uri": "https://localhost:8080/"
        },
        "id": "67qYSEsBefYB",
        "outputId": "cbb24a6f-87b6-4c13-99c1-292c6fea734f"
      },
      "execution_count": null,
      "outputs": [
        {
          "output_type": "stream",
          "name": "stdout",
          "text": [
            "[[2 3 4]\n",
            " [5 6 7]]\n",
            "[[6 5 9]\n",
            " [2 4 5]]\n",
            "[[2 3 4]\n",
            " [5 6 7]\n",
            " [6 5 9]\n",
            " [2 4 5]]\n",
            "[[2 3 4 6 5 9]\n",
            " [5 6 7 2 4 5]]\n"
          ]
        }
      ]
    },
    {
      "cell_type": "code",
      "source": [
        "#dstack(col,set,row),actual=set,row,col)\n",
        "a=np.arange(0,30).reshape(2,3,5)\n",
        "print(a)\n",
        "print(np.dstack(a))"
      ],
      "metadata": {
        "colab": {
          "base_uri": "https://localhost:8080/"
        },
        "id": "2RjWOoQVhCtd",
        "outputId": "882da65c-3daa-460c-97b1-6851f56a106e"
      },
      "execution_count": null,
      "outputs": [
        {
          "output_type": "stream",
          "name": "stdout",
          "text": [
            "[[[ 0  1  2  3  4]\n",
            "  [ 5  6  7  8  9]\n",
            "  [10 11 12 13 14]]\n",
            "\n",
            " [[15 16 17 18 19]\n",
            "  [20 21 22 23 24]\n",
            "  [25 26 27 28 29]]]\n",
            "[[[ 0 15]\n",
            "  [ 1 16]\n",
            "  [ 2 17]\n",
            "  [ 3 18]\n",
            "  [ 4 19]]\n",
            "\n",
            " [[ 5 20]\n",
            "  [ 6 21]\n",
            "  [ 7 22]\n",
            "  [ 8 23]\n",
            "  [ 9 24]]\n",
            "\n",
            " [[10 25]\n",
            "  [11 26]\n",
            "  [12 27]\n",
            "  [13 28]\n",
            "  [14 29]]]\n"
          ]
        }
      ]
    },
    {
      "cell_type": "code",
      "source": [
        "v=10\n",
        "print(type(v))"
      ],
      "metadata": {
        "colab": {
          "base_uri": "https://localhost:8080/"
        },
        "id": "tNJOFZf5V1Zc",
        "outputId": "3fadea05-7ef2-43e3-d438-fadf5b3e35b6"
      },
      "execution_count": null,
      "outputs": [
        {
          "output_type": "stream",
          "name": "stdout",
          "text": [
            "<class 'int'>\n"
          ]
        }
      ]
    },
    {
      "cell_type": "code",
      "source": [
        "print(\"hello world\",end=' ')\n",
        "print(\"hello world\")"
      ],
      "metadata": {
        "colab": {
          "base_uri": "https://localhost:8080/"
        },
        "id": "ugKxnVAhWLy7",
        "outputId": "b6b37cbb-8cbe-4cbe-f99d-a7452fdab852"
      },
      "execution_count": null,
      "outputs": [
        {
          "output_type": "stream",
          "name": "stdout",
          "text": [
            "hello world hello world\n"
          ]
        }
      ]
    },
    {
      "cell_type": "code",
      "source": [
        "l=[1,2,3,4,5]\n",
        "print(len(l))"
      ],
      "metadata": {
        "colab": {
          "base_uri": "https://localhost:8080/"
        },
        "id": "BcY46BfTXfHy",
        "outputId": "3727af6b-2572-4055-be30-f4ed01828aa2"
      },
      "execution_count": null,
      "outputs": [
        {
          "output_type": "stream",
          "name": "stdout",
          "text": [
            "5\n"
          ]
        }
      ]
    },
    {
      "cell_type": "code",
      "source": [
        "l=[1,2,3,4,5]\n",
        "print(l[2])"
      ],
      "metadata": {
        "colab": {
          "base_uri": "https://localhost:8080/"
        },
        "id": "dWPTL2GiXsaW",
        "outputId": "e96a77b1-9c93-489a-ae4f-b3b9d5e53b78"
      },
      "execution_count": null,
      "outputs": [
        {
          "output_type": "stream",
          "name": "stdout",
          "text": [
            "3\n"
          ]
        }
      ]
    },
    {
      "cell_type": "code",
      "source": [
        "l=[1,2,3,4]\n",
        "print(l.index(3))"
      ],
      "metadata": {
        "colab": {
          "base_uri": "https://localhost:8080/"
        },
        "id": "sTN3Poz4X50n",
        "outputId": "fd315004-8538-49f7-fff1-8c4c63f1d372"
      },
      "execution_count": null,
      "outputs": [
        {
          "output_type": "stream",
          "name": "stdout",
          "text": [
            "2\n"
          ]
        }
      ]
    },
    {
      "cell_type": "code",
      "source": [
        "#eye function(prints 1 diagnally and remaing all zeros)\n",
        "a1=np.eye(4)\n",
        "print(a1)"
      ],
      "metadata": {
        "colab": {
          "base_uri": "https://localhost:8080/"
        },
        "id": "nBuGaItCYM49",
        "outputId": "bd464184-583a-451f-8db8-31e37dd848a2"
      },
      "execution_count": null,
      "outputs": [
        {
          "output_type": "stream",
          "name": "stdout",
          "text": [
            "[[1. 0. 0. 0.]\n",
            " [0. 1. 0. 0.]\n",
            " [0. 0. 1. 0.]\n",
            " [0. 0. 0. 1.]]\n"
          ]
        }
      ]
    },
    {
      "cell_type": "code",
      "source": [
        "#full and item size(prints same element in the given dimension array)\n",
        "a1=np.full((2,2),3)\n",
        "print(a1)\n",
        "print(a1.itemsize)"
      ],
      "metadata": {
        "colab": {
          "base_uri": "https://localhost:8080/"
        },
        "id": "JsLdF3ZkZxl_",
        "outputId": "59cf840d-9239-49a0-939e-66c93b50aacc"
      },
      "execution_count": null,
      "outputs": [
        {
          "output_type": "stream",
          "name": "stdout",
          "text": [
            "[[3 3]\n",
            " [3 3]]\n",
            "8\n"
          ]
        }
      ]
    },
    {
      "cell_type": "code",
      "source": [
        "#asarray function(converting into arraywhich is symmetric)\n",
        "x=[1,2,3]\n",
        "a=np.asarray(x)\n",
        "print(a)\n",
        "print(type(a))"
      ],
      "metadata": {
        "colab": {
          "base_uri": "https://localhost:8080/"
        },
        "id": "S6Vb6BWWaQfq",
        "outputId": "14914aee-ba0c-4e60-9376-8f928cef241c"
      },
      "execution_count": null,
      "outputs": [
        {
          "output_type": "stream",
          "name": "stdout",
          "text": [
            "[1 2 3]\n",
            "<class 'numpy.ndarray'>\n"
          ]
        }
      ]
    },
    {
      "cell_type": "code",
      "source": [
        "#inner(sum of row multplication(1*2+4*2+0*1)),outer(each element in first row multiplied with 2nd row elements(1*2,1*2,1*1)),cross(array chaned to column and applying dot product)\n",
        "x=np.array([1,4,0],float)\n",
        "y=np.array([2,2,1],float)\n",
        "print(np.inner(x,y))\n",
        "print(np.outer(x,y))\n",
        "print(np.cross(x,y))"
      ],
      "metadata": {
        "colab": {
          "base_uri": "https://localhost:8080/"
        },
        "id": "SHch-6f9asBv",
        "outputId": "9195e452-db4d-4c74-81bd-abb13b80cb70"
      },
      "execution_count": null,
      "outputs": [
        {
          "output_type": "stream",
          "name": "stdout",
          "text": [
            "10.0\n",
            "[[2. 2. 1.]\n",
            " [8. 8. 4.]\n",
            " [0. 0. 0.]]\n",
            "[ 4. -1. -6.]\n"
          ]
        }
      ]
    },
    {
      "cell_type": "code",
      "source": [
        "# rint function(more than .5 it will give next number of before point(2.8=3))\n",
        "a=np.array([1.7,2.2,3.9,4.2,5.8,6.2,7.2])\n",
        "np.rint(a)"
      ],
      "metadata": {
        "colab": {
          "base_uri": "https://localhost:8080/"
        },
        "id": "ic6Q98GqdHsZ",
        "outputId": "8c7569d3-71eb-4e86-9203-be811f896654"
      },
      "execution_count": null,
      "outputs": [
        {
          "output_type": "execute_result",
          "data": {
            "text/plain": [
              "array([2., 2., 4., 4., 6., 6., 7.])"
            ]
          },
          "metadata": {},
          "execution_count": 14
        }
      ]
    },
    {
      "cell_type": "code",
      "source": [
        "#true_division a/b division (1/3 ...2/4)\n",
        "a=np.array([1,2])\n",
        "b=np.array([3,4])\n",
        "np.true_divide(a,b)"
      ],
      "metadata": {
        "colab": {
          "base_uri": "https://localhost:8080/"
        },
        "id": "C4E5A5O5dsPY",
        "outputId": "77902c3c-ebfc-4063-d0ae-34deb74dbf96"
      },
      "execution_count": null,
      "outputs": [
        {
          "output_type": "execute_result",
          "data": {
            "text/plain": [
              "array([0.33333333, 0.5       ])"
            ]
          },
          "metadata": {},
          "execution_count": 15
        }
      ]
    },
    {
      "cell_type": "code",
      "source": [
        "#unique function (remove repeated elements)\n",
        "a=np.array([1,1,2,2,3,3,4,4])\n",
        "np.unique(a)"
      ],
      "metadata": {
        "colab": {
          "base_uri": "https://localhost:8080/"
        },
        "id": "492BazereSWD",
        "outputId": "5f7f020a-8411-4e5d-f87b-699954120262"
      },
      "execution_count": null,
      "outputs": [
        {
          "output_type": "execute_result",
          "data": {
            "text/plain": [
              "array([1, 2, 3, 4])"
            ]
          },
          "metadata": {},
          "execution_count": 16
        }
      ]
    },
    {
      "cell_type": "code",
      "source": [
        "#union1d function (remove repeted elements and prints arrays in one dimensional array)\n",
        "a=np.array([[1,2],[3,4]])\n",
        "b=np.array([[5,6],[7,8]])\n",
        "np.union1d(a,b)"
      ],
      "metadata": {
        "colab": {
          "base_uri": "https://localhost:8080/"
        },
        "id": "iDvJfDY2eqxu",
        "outputId": "67cd7ccc-19d6-4d13-f9a5-3fd7e855d0d9"
      },
      "execution_count": null,
      "outputs": [
        {
          "output_type": "execute_result",
          "data": {
            "text/plain": [
              "array([1, 2, 3, 4, 5, 6, 7, 8])"
            ]
          },
          "metadata": {},
          "execution_count": 17
        }
      ]
    },
    {
      "cell_type": "code",
      "source": [
        "#interst1d function(prints only common elements)\n",
        "a=np.array([[1,2],[3,4]])\n",
        "b=np.array([[5,2],[7,3]])\n",
        "np.intersect1d(a,b)"
      ],
      "metadata": {
        "colab": {
          "base_uri": "https://localhost:8080/"
        },
        "id": "FxmGMJMRfvJr",
        "outputId": "7e0b554d-0b91-420c-bd9f-f2539b10f6d4"
      },
      "execution_count": null,
      "outputs": [
        {
          "output_type": "execute_result",
          "data": {
            "text/plain": [
              "array([2, 3])"
            ]
          },
          "metadata": {},
          "execution_count": 19
        }
      ]
    },
    {
      "cell_type": "code",
      "source": [
        "#setdiff1d function(which is present in arr1 but not in arr2)\n",
        "a=np.array([[1,2],[3,4]])\n",
        "b=np.array([[5,2],[7,3]])\n",
        "np.setdiff1d(a,b)"
      ],
      "metadata": {
        "colab": {
          "base_uri": "https://localhost:8080/"
        },
        "id": "TJidhG81gFvL",
        "outputId": "70d423a0-9947-4eca-949f-f1b1e00066ef"
      },
      "execution_count": null,
      "outputs": [
        {
          "output_type": "execute_result",
          "data": {
            "text/plain": [
              "array([1, 4])"
            ]
          },
          "metadata": {},
          "execution_count": 20
        }
      ]
    },
    {
      "cell_type": "code",
      "source": [
        "#hypotenues formula\n",
        "a=8\n",
        "b=6\n",
        "c=np.hypot(a,b)"
      ],
      "metadata": {
        "id": "SkDl4rWBhHD9"
      },
      "execution_count": null,
      "outputs": []
    },
    {
      "cell_type": "code",
      "source": [
        "#sin function\n",
        "x=np.sin(0)\n",
        "print(x)"
      ],
      "metadata": {
        "colab": {
          "base_uri": "https://localhost:8080/"
        },
        "id": "G6g7QmVShcsw",
        "outputId": "e67b7033-3d8c-47e8-c640-bad3312350cf"
      },
      "execution_count": null,
      "outputs": [
        {
          "output_type": "stream",
          "name": "stdout",
          "text": [
            "0.0\n"
          ]
        }
      ]
    },
    {
      "cell_type": "code",
      "source": [
        "#divmod function(1st array=floor quotient,2nd array=remainder)\n",
        "a=np.array([10,20,30,40,50,60])\n",
        "b=np.array([20,21,2,20,25,25])\n",
        "c=np.divmod(a,b)\n",
        "print(c)"
      ],
      "metadata": {
        "colab": {
          "base_uri": "https://localhost:8080/"
        },
        "id": "XBdW5P7qhsTl",
        "outputId": "ecbbc9bc-853f-4fce-fc8c-538dc0fec177"
      },
      "execution_count": null,
      "outputs": [
        {
          "output_type": "stream",
          "name": "stdout",
          "text": [
            "(array([ 0,  0, 15,  2,  2,  2]), array([10, 20,  0,  0,  0, 10]))\n"
          ]
        }
      ]
    },
    {
      "cell_type": "code",
      "source": [
        "#mod function(gives only remainder)\n",
        "a=np.array([10,20,30,40,50,60])\n",
        "b=np.array([20,21,2,20,25,25])\n",
        "c=np.mod(a,b)\n",
        "print(c)"
      ],
      "metadata": {
        "colab": {
          "base_uri": "https://localhost:8080/"
        },
        "id": "E7y9Hq1oiez_",
        "outputId": "f26380ce-27a2-4f5d-8fb4-27d84c491ec8"
      },
      "execution_count": null,
      "outputs": [
        {
          "output_type": "stream",
          "name": "stdout",
          "text": [
            "[10 20  0  0  0 10]\n"
          ]
        }
      ]
    },
    {
      "cell_type": "code",
      "source": [
        "#divide function(gives only quotient(exact answer))\n",
        "a=np.array([10,20,30,40,50,60])\n",
        "b=np.array([20,21,2,20,25,25])\n",
        "c=np.divide(a,b)\n",
        "print(c)"
      ],
      "metadata": {
        "colab": {
          "base_uri": "https://localhost:8080/"
        },
        "id": "vKZPiPYpionL",
        "outputId": "f31aa834-fa1a-4597-e309-f415ad7ec84c"
      },
      "execution_count": null,
      "outputs": [
        {
          "output_type": "stream",
          "name": "stdout",
          "text": [
            "[ 0.5         0.95238095 15.          2.          2.          2.4       ]\n"
          ]
        }
      ]
    },
    {
      "cell_type": "code",
      "source": [
        "#multiply function(element multiplication))\n",
        "a=np.array([10,20,30,40,50,60])\n",
        "b=np.array([20,21,2,20,25,25])\n",
        "c=np.multiply(a,b)\n",
        "print(c)"
      ],
      "metadata": {
        "colab": {
          "base_uri": "https://localhost:8080/"
        },
        "id": "yvOT40Koi_g-",
        "outputId": "890459cc-7a62-4766-f879-ad7f40c399da"
      },
      "execution_count": null,
      "outputs": [
        {
          "output_type": "stream",
          "name": "stdout",
          "text": [
            "[ 200  420   60  800 1250 1500]\n"
          ]
        }
      ]
    },
    {
      "cell_type": "code",
      "source": [
        "#matmul function\n",
        "a=np.array([10,20,30,40,50,60])\n",
        "b=np.array([20,21,2,20,25,25])\n",
        "c=np.matmul(a,b)\n",
        "print(c)"
      ],
      "metadata": {
        "colab": {
          "base_uri": "https://localhost:8080/"
        },
        "id": "AukULPgSjLxv",
        "outputId": "db449dc4-494d-4b14-869f-585697b21ebf"
      },
      "execution_count": null,
      "outputs": [
        {
          "output_type": "stream",
          "name": "stdout",
          "text": [
            "4230\n"
          ]
        }
      ]
    },
    {
      "cell_type": "code",
      "source": [
        "#random values of 2/3 matrix\n",
        "from numpy import random\n",
        "x=random.normal(size=(2,3))\n",
        "print(x)"
      ],
      "metadata": {
        "colab": {
          "base_uri": "https://localhost:8080/"
        },
        "id": "by9FgSyXjW52",
        "outputId": "d2c8420f-2860-46d6-b01e-3b6592cc3a23"
      },
      "execution_count": null,
      "outputs": [
        {
          "output_type": "stream",
          "name": "stdout",
          "text": [
            "[[ 1.55885577 -0.62280824  0.27109384]\n",
            " [-2.49463733 -1.14617061  0.15741274]]\n"
          ]
        }
      ]
    },
    {
      "cell_type": "code",
      "source": [
        "#loc=mean value,scale=standard deviation value\n",
        "x=random.normal(loc=1,scale=2,size=(2,3))\n",
        "print(x)"
      ],
      "metadata": {
        "colab": {
          "base_uri": "https://localhost:8080/"
        },
        "id": "rj5b4Du3jtnj",
        "outputId": "4769bc16-a92c-4d36-f602-d74c0c6227a5"
      },
      "execution_count": null,
      "outputs": [
        {
          "output_type": "stream",
          "name": "stdout",
          "text": [
            "[[-0.46562185  2.38591767  0.45280068]\n",
            " [ 2.36154815 -3.26357514  0.87162125]]\n"
          ]
        }
      ]
    },
    {
      "cell_type": "code",
      "source": [
        "#n=total trials,p=probability\n",
        "x=random.binomial(n=12,p=0.5,size=(10))\n",
        "print(x)"
      ],
      "metadata": {
        "colab": {
          "base_uri": "https://localhost:8080/"
        },
        "id": "p9TZ2_s3lt3Q",
        "outputId": "35cc3154-bcce-441b-82ff-ace618e54513"
      },
      "execution_count": null,
      "outputs": [
        {
          "output_type": "stream",
          "name": "stdout",
          "text": [
            "[7 8 7 5 1 8 8 6 7 5]\n"
          ]
        }
      ]
    },
    {
      "cell_type": "code",
      "source": [
        "#lam=lamda,poisson function\n",
        "x=random.poisson(lam=2,size=(10))\n",
        "print(x)"
      ],
      "metadata": {
        "colab": {
          "base_uri": "https://localhost:8080/"
        },
        "id": "FKgY7WkhmGFa",
        "outputId": "6c63d53e-ed72-4aed-c25d-6cbe3dffaaf9"
      },
      "execution_count": null,
      "outputs": [
        {
          "output_type": "stream",
          "name": "stdout",
          "text": [
            "[1 5 2 2 2 2 4 3 3 0]\n"
          ]
        }
      ]
    },
    {
      "cell_type": "code",
      "source": [
        "x=random.choice([1,2,3,4])\n",
        "print(x)"
      ],
      "metadata": {
        "colab": {
          "base_uri": "https://localhost:8080/"
        },
        "id": "mxIr9G3embrH",
        "outputId": "6fdc10e0-fe7d-418c-8240-6315af5d2955"
      },
      "execution_count": null,
      "outputs": [
        {
          "output_type": "stream",
          "name": "stdout",
          "text": [
            "3\n"
          ]
        }
      ]
    },
    {
      "cell_type": "code",
      "source": [
        "#p=probability,size=matrix size(3/5)\n",
        "x=random.choice([3,5],p=[0.5,0.5],size=(3,5))\n",
        "print(x)"
      ],
      "metadata": {
        "colab": {
          "base_uri": "https://localhost:8080/"
        },
        "id": "cKvIqovAmrAU",
        "outputId": "81bd33a7-f735-4203-92c0-9ef773a76507"
      },
      "execution_count": null,
      "outputs": [
        {
          "output_type": "stream",
          "name": "stdout",
          "text": [
            "[[3 3 5 3 5]\n",
            " [5 5 5 3 5]\n",
            " [3 3 5 3 5]]\n"
          ]
        }
      ]
    },
    {
      "cell_type": "markdown",
      "source": [
        "mean=(sum of elements)/total no of elements\n",
        "median=middle value\n",
        "varience=(sum of (each element-mean)2/total no of elements\n",
        "standard deviation=sqrt(varience)"
      ],
      "metadata": {
        "id": "ImkMyyyPlPzI"
      }
    },
    {
      "cell_type": "markdown",
      "source": [
        "1 2 (4*1)-(0*2)\n",
        "4 2 (1*1)-(2*0)\n",
        "0 1 (1*2)-(4*2)"
      ],
      "metadata": {
        "id": "zldBIDAbcp1Q"
      }
    },
    {
      "cell_type": "markdown",
      "source": [
        "1.number of rows become no of set\n",
        "2.column become rows\n",
        "3.set become column"
      ],
      "metadata": {
        "id": "ukCE0dZsh457"
      }
    }
  ]
}